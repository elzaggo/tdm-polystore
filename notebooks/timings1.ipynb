{
 "cells": [
  {
   "cell_type": "code",
   "execution_count": 1,
   "metadata": {},
   "outputs": [
    {
     "name": "stderr",
     "output_type": "stream",
     "text": [
      "/usr/local/lib/python3.6/dist-packages/psycopg2/__init__.py:144: UserWarning: The psycopg2 wheel package will be renamed from release 2.8; in order to keep installing from binary please use \"pip install psycopg2-binary\" instead. For details see: <http://initd.org/psycopg/docs/install.html#binary-install-from-pypi>.\n",
      "  \"\"\")\n"
     ]
    }
   ],
   "source": [
    "import psycopg2 as psy\n",
    "from datetime import datetime, timedelta\n",
    "import json\n",
    "\n",
    "from osgeo import ogr\n",
    "from osgeo import osr\n",
    "from datetime import datetime, timedelta\n",
    "\n",
    "import numpy as np\n",
    "import tiledb\n",
    "import os"
   ]
  },
  {
   "cell_type": "code",
   "execution_count": 2,
   "metadata": {},
   "outputs": [],
   "source": [
    "# create testdb\n",
    "from psycopg2.extensions import ISOLATION_LEVEL_AUTOCOMMIT\n",
    "\n",
    "con = psy.connect(\"dbname=postgres host=timescaledb user=postgres password=foobar\")\n",
    "\n",
    "with con:\n",
    "    con.set_isolation_level(ISOLATION_LEVEL_AUTOCOMMIT)\n",
    "    with con.cursor() as cur:\n",
    "        cur.execute(\"DROP DATABASE IF EXISTS testdb;\")\n",
    "        cur.execute('CREATE DATABASE testdb')\n",
    "\n",
    "# not sure if the AUTOCOMMIT is needed\n",
    "with con:\n",
    "    con.set_isolation_level(ISOLATION_LEVEL_AUTOCOMMIT)\n",
    "    with con.cursor() as cur:   \n",
    "        cur.execute(\"CREATE EXTENSION IF NOT EXISTS timescaledb CASCADE;\")\n",
    "con.close()"
   ]
  },
  {
   "cell_type": "code",
   "execution_count": 3,
   "metadata": {},
   "outputs": [
    {
     "name": "stdout",
     "output_type": "stream",
     "text": [
      "[('2.5 USE_GEOS=1 USE_PROJ=1 USE_STATS=1',)]\n",
      "(3819, 'EPSG', '+proj=longlat +ellps=bessel +towgs84=595.48,121.69,515.35,4.115,-2.9383,0.853,-3.408 +no_defs ')\n",
      "(3821, 'EPSG', '+proj=longlat +ellps=aust_SA +no_defs ')\n",
      "(3824, 'EPSG', '+proj=longlat +ellps=GRS80 +towgs84=0,0,0,0,0,0,0 +no_defs ')\n",
      "[(3003, 'EPSG', '+proj=tmerc +lat_0=0 +lon_0=9 +k=0.9996 +x_0=1500000 +y_0=0 +ellps=intl +towgs84=-104.1,-49.1,-9.9,0.971,-2.917,0.714,-11.68 +units=m +no_defs ')]\n"
     ]
    }
   ],
   "source": [
    "con = psy.connect(\"dbname=testdb host=timescaledb user=postgres password=foobar\")\n",
    "\n",
    "with con:\n",
    "    with con.cursor() as cur:   \n",
    "        cur.execute(\"CREATE EXTENSION IF NOT EXISTS postgis;\")\n",
    "        cur.execute(\"SELECT postgis_version();\")\n",
    "        print(cur.fetchall())\n",
    "        cur.execute(\"SELECT srid, auth_name, proj4text FROM spatial_ref_sys LIMIT 3;\")\n",
    "        for x in cur.fetchall():\n",
    "            print(x)\n",
    "        cur.execute(\"SELECT srid, auth_name, proj4text FROM spatial_ref_sys WHERE srid = 3003\")\n",
    "        print(cur.fetchall())\n",
    "con.close()"
   ]
  },
  {
   "cell_type": "code",
   "execution_count": 4,
   "metadata": {},
   "outputs": [],
   "source": [
    "source = osr.SpatialReference()\n",
    "source.ImportFromEPSG(4326)\n",
    "\n",
    "target = osr.SpatialReference()\n",
    "target.ImportFromEPSG(3003)\n",
    "\n",
    "transform = osr.CoordinateTransformation(source, target)\n",
    "\n",
    "def map_to_monte_mario(wkt):\n",
    "    geom = ogr.CreateGeometryFromWkt(wkt)\n",
    "    geom.Transform(transform)\n",
    "    return geom.ExportToWkt()\n"
   ]
  },
  {
   "cell_type": "code",
   "execution_count": 5,
   "metadata": {},
   "outputs": [],
   "source": [
    "def drop_table(conn, tname):\n",
    "    SQL = \"DROP TABLE IF EXISTS %s\" % tname\n",
    "    with conn:\n",
    "        with conn.cursor() as cur:\n",
    "            cur.execute(SQL)            \n",
    "\n",
    "def drop_events_table(conn):\n",
    "    drop_table(conn, 'events')\n",
    "    \n",
    "def drop_positions_table(conn):\n",
    "    drop_table(conn, 'positions')\n",
    "\n",
    "def create_events_table(conn):\n",
    "    SQL = \"\"\"\n",
    "        CREATE TABLE events (\n",
    "            time   TIMESTAMPTZ NOT NULL,\n",
    "            sensor int4        NOT NULL);\n",
    "        \"\"\"\n",
    "    with conn:\n",
    "        with conn.cursor() as cur:\n",
    "            cur.execute(SQL)\n",
    "    SQL = \"SELECT create_hypertable('events', 'time');\"\n",
    "    with conn:\n",
    "        with conn.cursor() as cur:\n",
    "            cur.execute(SQL)\n",
    "            \n",
    "def create_positions_table(conn):\n",
    "    query = \"\"\"\n",
    "        CREATE TABLE positions (\n",
    "            sensor    int4 primary key,\n",
    "            name      VARCHAR(20),\n",
    "            type      VARCHAR(20),\n",
    "            category  VARCHAR(20),\n",
    "            geom      geometry,\n",
    "            precision REAL\n",
    "        );\n",
    "    \"\"\"\n",
    "    with conn:\n",
    "        with conn.cursor() as cur:\n",
    "            cur.execute(query)\n"
   ]
  },
  {
   "cell_type": "code",
   "execution_count": 6,
   "metadata": {},
   "outputs": [],
   "source": [
    "con = psy.connect(\"dbname=testdb host=timescaledb user=postgres password=foobar\")\n",
    "drop_positions_table(con)\n",
    "drop_events_table(con)\n",
    "create_positions_table(con)\n",
    "create_events_table(con)"
   ]
  },
  {
   "cell_type": "code",
   "execution_count": 7,
   "metadata": {},
   "outputs": [],
   "source": [
    "def generate_point_sensors_definitions(conn, n, m, rect):\n",
    "    ll = np.array(rect[0])\n",
    "    ur = np.array(rect[1])\n",
    "    sensor_types = ['stype%d' % i for i in range(m)]\n",
    "    positions = ll + (ur - ll) * np.random.uniform(size=2*n).reshape([n, 2])\n",
    "    labels = np.random.choice(sensor_types, n)\n",
    "    SQL = \"\"\"INSERT INTO positions (sensor, name, type, category, geom, precision)\n",
    "             VALUES (%s, %s, %s, %s, ST_GeomFromText(%s, 3003), 10);\"\"\"\n",
    "    with conn:\n",
    "        for i, (l, p) in enumerate(zip(labels, positions)):\n",
    "            with conn.cursor() as cur:\n",
    "                cur.execute(SQL, \n",
    "                    (i, 'foo%s' % i, l, 'meteo',\n",
    "                     map_to_monte_mario(\"POINT (%s %s)\" % (p[0], p[1]))))\n",
    "    sensors_by_type = {}\n",
    "    for i,l in enumerate(labels):\n",
    "        sensors_by_type.setdefault(l,[]).append(i)\n",
    "    return sensors_by_type"
   ]
  },
  {
   "cell_type": "code",
   "execution_count": 8,
   "metadata": {},
   "outputs": [
    {
     "name": "stdout",
     "output_type": "stream",
     "text": [
      "CPU times: user 3.16 ms, sys: 0 ns, total: 3.16 ms\n",
      "Wall time: 11.1 ms\n"
     ]
    }
   ],
   "source": [
    "n_sensors = 10\n",
    "n_types = 2\n",
    "rect = ((9.088151, 39.203460), (9.220304, 39.276140))\n",
    "center = (0.5 * (rect[0][0] + rect[1][0]), \n",
    "          0.5 * (rect[0][1] + rect[1][1]))\n",
    "\n",
    "\n",
    "%time sensors_by_type = generate_point_sensors_definitions(con, n_sensors, n_types, rect)"
   ]
  },
  {
   "cell_type": "code",
   "execution_count": 9,
   "metadata": {},
   "outputs": [
    {
     "name": "stdout",
     "output_type": "stream",
     "text": [
      "(0, 'stype0', 'POINT(9.20346535422244 39.2610924352225)')\n",
      "(1, 'stype0', 'POINT(9.21616870234363 39.2224230576244)')\n",
      "(2, 'stype1', 'POINT(9.18227645177556 39.2069468930276)')\n",
      "(3, 'stype1', 'POINT(9.16246496301775 39.2510251684259)')\n",
      "(4, 'stype1', 'POINT(9.2017921778295 39.2250639046251)')\n",
      "(5, 'stype1', 'POINT(9.15687199322154 39.2669552357252)')\n",
      "(6, 'stype0', 'POINT(9.22029303374086 39.2113068367249)')\n",
      "(7, 'stype0', 'POINT(9.17912085859247 39.2648172671239)')\n",
      "(8, 'stype1', 'POINT(9.16244300274994 39.2734409044244)')\n",
      "(9, 'stype0', 'POINT(9.21882094335519 39.2496724182223)')\n"
     ]
    }
   ],
   "source": [
    "with con:\n",
    "    with con.cursor() as cur:\n",
    "        cur.execute('SELECT sensor, type, ST_AsText(ST_Transform(geom,4326)) from positions LIMIT 10;')\n",
    "        for r in cur.fetchall():\n",
    "            print(r)"
   ]
  },
  {
   "cell_type": "code",
   "execution_count": 10,
   "metadata": {},
   "outputs": [],
   "source": [
    "def generate_point_sensor_type_table(conn, tname):\n",
    "    SQL1 = \"\"\"\n",
    "        CREATE TABLE {} (\n",
    "            sensor    int4,\n",
    "            time   TIMESTAMPTZ NOT NULL,\n",
    "            temperature REAL,\n",
    "            humidity    REAL,\n",
    "            foo    REAL\n",
    "        );\n",
    "    \"\"\".format(tname)\n",
    "    SQL2 = \"SELECT create_hypertable('{}', 'time');\".format(tname)\n",
    "    SQL3 = \"CREATE INDEX {}_index on {}(sensor);\".format(tname, tname)\n",
    "    with conn:\n",
    "        with conn.cursor() as cur:\n",
    "            cur.execute(SQL1)\n",
    "            cur.execute(SQL2)                        \n",
    "            cur.execute(SQL3)\n",
    "\n",
    "\n",
    "def generate_point_sensor_type_tables(conn, m):\n",
    "    sensor_types = ['stype%d' % i for i in range(m)]    \n",
    "    for tname in sensor_types:\n",
    "        generate_point_sensor_type_table(conn, tname)"
   ]
  },
  {
   "cell_type": "code",
   "execution_count": 11,
   "metadata": {},
   "outputs": [
    {
     "name": "stdout",
     "output_type": "stream",
     "text": [
      "CPU times: user 3.19 ms, sys: 201 µs, total: 3.39 ms\n",
      "Wall time: 30.7 ms\n"
     ]
    }
   ],
   "source": [
    "%time generate_point_sensor_type_tables(con, n_types)"
   ]
  },
  {
   "cell_type": "code",
   "execution_count": 12,
   "metadata": {},
   "outputs": [],
   "source": [
    "def generate_time_series(n_events, start_date, plambda_secs, n_fields):\n",
    "    deltas = np.cumsum(np.random.poisson(lam=plambda_secs, size=n_events))\n",
    "    tstamps = [start_date + timedelta(seconds=int(t)) for t in deltas]\n",
    "    data = np.random.uniform(size=n_fields*n_events).reshape(n_events, \n",
    "                                                             n_fields)\n",
    "    return tstamps, data\n",
    "\n",
    "\n",
    "def generate_point_sensors_data(conn, n_events, sensors_by_type,\n",
    "                                start_date, plambda_secs):\n",
    "    # FIXME not very idiomatic...\n",
    "    n_sensors = sum(len(sensors_by_type[t]) for t in sensors_by_type)\n",
    "    type_by_sensor = [None] * n_sensors\n",
    "    for t in sensors_by_type:\n",
    "        for i in sensors_by_type[t]:\n",
    "            type_by_sensor[i] = t\n",
    "    type_by_sensor = np.array(type_by_sensor)\n",
    "    # --\n",
    "    sensors = np.random.choice(n_sensors, n_events)\n",
    "    stypes = type_by_sensor[sensors]\n",
    "    tstamps, data = generate_time_series(n_events, start_date, plambda_secs, 3)\n",
    "    SQL1 = \"INSERT INTO events (time, sensor) VALUES (%s, %s);\"\n",
    "    SQL2 = \"\"\"INSERT INTO {} (sensor, time, temperature, humidity, foo) \n",
    "              VALUES (%s, %s, %s, %s, %s);\"\"\"\n",
    "    with conn:\n",
    "        for i, st, t, d in zip(sensors, stypes, tstamps, data):\n",
    "            with conn.cursor() as cur:\n",
    "                cur.execute(SQL1, (t, int(i)))\n",
    "                cur.execute(SQL2.format(st),\n",
    "                            (int(i), t, d[0], d[1], d[2]))\n"
   ]
  },
  {
   "cell_type": "code",
   "execution_count": 13,
   "metadata": {},
   "outputs": [
    {
     "name": "stdout",
     "output_type": "stream",
     "text": [
      "CPU times: user 16.3 ms, sys: 23 µs, total: 16.3 ms\n",
      "Wall time: 74.7 ms\n"
     ]
    }
   ],
   "source": [
    "n_events = 100\n",
    "tstart = datetime.now()\n",
    "plambda_sec = 5\n",
    "\n",
    "%time generate_point_sensors_data(con, n_events, sensors_by_type, tstart, plambda_sec)"
   ]
  },
  {
   "cell_type": "code",
   "execution_count": 16,
   "metadata": {},
   "outputs": [
    {
     "name": "stdout",
     "output_type": "stream",
     "text": [
      "('stype0', 6, 'POINT(9.22029303374086 39.2113068367249)')\n",
      "('stype0', 0, 'POINT(9.20346535422244 39.2610924352225)')\n",
      "('stype1', 3, 'POINT(9.16246496301775 39.2510251684259)')\n",
      "('stype1', 2, 'POINT(9.18227645177556 39.2069468930276)')\n"
     ]
    }
   ],
   "source": [
    "SQL = \"\"\"\n",
    "SELECT p.type, p.sensor, ST_AsText(ST_Transform(p.geom,4326))\n",
    "FROM events e, positions p\n",
    "WHERE e.time > %s AND e.time < %s\n",
    "      AND ST_DWithin(p.geom, ST_GeomFromText(%s, 3003), %s)\n",
    "      AND e.sensor = p.sensor\n",
    "ORDER BY p.type;\n",
    "\"\"\"\n",
    "\n",
    "SQL1 = \"\"\"\n",
    "SELECT p.type, p.sensor, ST_AsText(ST_Transform(p.geom,4326))\n",
    "FROM events e, positions p\n",
    "WHERE e.time > %s AND e.time < %s\n",
    "      AND e.sensor = p.sensor\n",
    "ORDER BY p.type;\n",
    "\"\"\"\n",
    "\n",
    "\n",
    "t1 = datetime.now() - timedelta(minutes=10)\n",
    "t2 = datetime.now()\n",
    "pos = 'POINT(%s %s)' % center\n",
    "radius = 10000\n",
    "\n",
    "with con:\n",
    "    with con.cursor() as cur:\n",
    "        cur.execute(SQL, (t1, t2, map_to_monte_mario(pos), radius))\n",
    "        # cur.execute(SQL1, (t1, t2))\n",
    "        for r in cur.fetchall():\n",
    "            print(r)"
   ]
  },
  {
   "cell_type": "code",
   "execution_count": null,
   "metadata": {},
   "outputs": [],
   "source": []
  }
 ],
 "metadata": {
  "kernelspec": {
   "display_name": "Python 3",
   "language": "python",
   "name": "python3"
  },
  "language_info": {
   "codemirror_mode": {
    "name": "ipython",
    "version": 3
   },
   "file_extension": ".py",
   "mimetype": "text/x-python",
   "name": "python",
   "nbconvert_exporter": "python",
   "pygments_lexer": "ipython3",
   "version": "3.6.7"
  }
 },
 "nbformat": 4,
 "nbformat_minor": 2
}
